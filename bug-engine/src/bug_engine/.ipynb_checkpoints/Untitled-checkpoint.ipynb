{
 "cells": [
  {
   "cell_type": "code",
   "execution_count": 6,
   "id": "741d8c55-861b-432d-9e80-14e9a225788f",
   "metadata": {},
   "outputs": [],
   "source": [
    "from bug_engine import bug_generator"
   ]
  },
  {
   "cell_type": "code",
   "execution_count": 7,
   "id": "b12cd2e1-df7e-4c5f-a44a-4924f26a0881",
   "metadata": {},
   "outputs": [],
   "source": [
    "bg = bug_generator(board_size=3, bug_size=3)"
   ]
  },
  {
   "cell_type": "code",
   "execution_count": 10,
   "id": "7160971a-7ef1-43de-8f2c-629f45c0da84",
   "metadata": {},
   "outputs": [
    {
     "ename": "SyntaxError",
     "evalue": "incomplete input (2708420969.py, line 1)",
     "output_type": "error",
     "traceback": [
      "\u001b[0;36m  Cell \u001b[0;32mIn[10], line 1\u001b[0;36m\u001b[0m\n\u001b[0;31m    list(bg)[0:5\u001b[0m\n\u001b[0m                ^\u001b[0m\n\u001b[0;31mSyntaxError\u001b[0m\u001b[0;31m:\u001b[0m incomplete input\n"
     ]
    }
   ],
   "source": [
    "list(bg)[0:5]"
   ]
  },
  {
   "cell_type": "code",
   "execution_count": null,
   "id": "034a8c96-4635-469b-adc8-c48f573b3458",
   "metadata": {},
   "outputs": [],
   "source": []
  }
 ],
 "metadata": {
  "kernelspec": {
   "display_name": "bug-engine",
   "language": "python",
   "name": "bug-engine"
  },
  "language_info": {
   "codemirror_mode": {
    "name": "ipython",
    "version": 3
   },
   "file_extension": ".py",
   "mimetype": "text/x-python",
   "name": "python",
   "nbconvert_exporter": "python",
   "pygments_lexer": "ipython3",
   "version": "3.10.12"
  }
 },
 "nbformat": 4,
 "nbformat_minor": 5
}
