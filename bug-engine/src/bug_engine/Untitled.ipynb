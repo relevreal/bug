{
 "cells": [
  {
   "cell_type": "code",
   "execution_count": 2,
   "id": "741d8c55-861b-432d-9e80-14e9a225788f",
   "metadata": {},
   "outputs": [],
   "source": [
    "from bug_engine import bug_generator"
   ]
  },
  {
   "cell_type": "code",
   "execution_count": 2,
   "id": "b12cd2e1-df7e-4c5f-a44a-4924f26a0881",
   "metadata": {},
   "outputs": [],
   "source": [
    "bg = bug_generator(board_size=3, bug_size=3)"
   ]
  },
  {
   "cell_type": "code",
   "execution_count": 57,
   "id": "7160971a-7ef1-43de-8f2c-629f45c0da84",
   "metadata": {},
   "outputs": [
    {
     "data": {
      "image/png": "[encoded data removed]",
      "text/plain": [
       "<Figure size 640x480 with 1 Axes>"
      ]
     },
     "metadata": {},
     "output_type": "display_data"
    }
   ],
   "source": [
    "import matplotlib.pyplot as plt\n",
    "from matplotlib.patches import RegularPolygon\n",
    "import numpy as np\n",
    "\n",
    "\n",
    "offCoord = [[-2,-2],[-1,-2],[0,-2],[1,-2],[2,-2]]\n",
    "\n",
    "fig, ax = plt.subplots(1)\n",
    "ax.set_aspect('equal')\n",
    "\n",
    "for c in offCoord:\n",
    "    # fix radius here\n",
    "    hexagon = RegularPolygon((c[0], c[1]), numVertices=6, radius=np.sqrt(1/3), alpha=0.2, edgecolor='k')\n",
    "    ax.add_patch(hexagon)\n",
    "plt.autoscale(enable = True)\n",
    "plt.show()\n"
   ]
  },
  {
   "cell_type": "code",
   "execution_count": null,
   "id": "c33d56e1-bc5e-4cb1-87ca-09beb0b12a18",
   "metadata": {},
   "outputs": [],
   "source": [
    "from collections import namedtuple\n",
    "\n",
    "Point = nampedtuple('Point', 'x y')\n",
    "\n",
    "_Hex = namedtuple('_Hex', 'q r s')\n",
    "\n",
    "def Hex(q, r, s):\n",
    "    assert not (round(q + r + s) != 0), 'q + r + s must be 0'\n",
    "    return _Hex(q, r, s)\n",
    "\n",
    "class Hex:\n",
    "    def __init__(self, q, r, s):\n",
    "        self.q = q\n",
    "        self.r = r\n",
    "        self.s = s\n",
    "\n",
    "    def __add__("
   ]
  }
 ],
 "metadata": {
  "kernelspec": {
   "display_name": "bug-engine",
   "language": "python",
   "name": "bug-engine"
  },
  "language_info": {
   "codemirror_mode": {
    "name": "ipython",
    "version": 3
   },
   "file_extension": ".py",
   "mimetype": "text/x-python",
   "name": "python",
   "nbconvert_exporter": "python",
   "pygments_lexer": "ipython3",
   "version": "3.12.1"
  }
 },
 "nbformat": 4,
 "nbformat_minor": 5
}
